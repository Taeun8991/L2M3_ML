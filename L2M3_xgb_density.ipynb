{
 "cells": [
  {
   "cell_type": "code",
   "execution_count": 1,
   "metadata": {},
   "outputs": [],
   "source": [
    "from sklearn.model_selection import train_test_split, GridSearchCV\n",
    "import xgboost as xgb\n",
    "from sklearn.metrics import mean_squared_error, r2_score, mean_absolute_error\n",
    "import numpy as np\n",
    "import json\n",
    "import pandas as pd"
   ]
  },
  {
   "cell_type": "code",
   "execution_count": 2,
   "metadata": {},
   "outputs": [],
   "source": [
    "with open('./x_vector_density.json', 'r') as file:\n",
    "    x_vector = json.load(file)\n",
    "\n",
    "with open('./y_vector_density.json', 'r') as file:\n",
    "    y_vector = json.load(file)\n",
    "\n",
    "with open('./refcode_list_density.json', 'r') as f:\n",
    "    refcode_list = json.load(f)"
   ]
  },
  {
   "cell_type": "code",
   "execution_count": 3,
   "metadata": {},
   "outputs": [],
   "source": [
    "filtered_indices = [\n",
    "    i for i, sublist in enumerate(x_vector) \n",
    "    if not any(\n",
    "        (isinstance(value, (float, int)) and (np.isinf(value) or np.abs(value) > np.finfo(np.float32).max or np.isnan(value) or value == 'nan'))\n",
    "        for value in sublist\n",
    "    )\n",
    "]\n",
    "\n",
    "x_vector_filtered = [x_vector[i] for i in filtered_indices]\n",
    "y_vector_filtered = [y_vector[i] for i in filtered_indices]\n",
    "refcode_list_filtered = [refcode_list[i] for i in filtered_indices]"
   ]
  },
  {
   "cell_type": "code",
   "execution_count": 4,
   "metadata": {},
   "outputs": [],
   "source": [
    "x_train, x_test, y_train, y_test = train_test_split(x_vector_filtered, y_vector_filtered, test_size=0.20, random_state=42)"
   ]
  },
  {
   "cell_type": "code",
   "execution_count": 5,
   "metadata": {},
   "outputs": [],
   "source": [
    "x_train = np.array(x_train).astype(float)\n",
    "y_train = np.array(y_train).astype(float)\n",
    "x_test = np.array(x_test).astype(float)\n",
    "y_test = np.array(y_test).astype(float)"
   ]
  },
  {
   "cell_type": "code",
   "execution_count": 6,
   "metadata": {},
   "outputs": [
    {
     "name": "stdout",
     "output_type": "stream",
     "text": [
      "Train Mean Squared Error: 0.018168398770465773\n",
      "Train R-squared (R2): 0.9178237102488197\n",
      "Train Mean Absolute Error (MAE): 0.08665904587763938\n",
      "Test Mean Squared Error: 0.044459659476388115\n",
      "Test R-squared (R2): 0.7843651676230462\n",
      "Test Mean Absolute Error (MAE): 0.1223861301927659\n"
     ]
    }
   ],
   "source": [
    "gbm_model_exp = xgb.XGBRegressor(n_estimators=200, colsample_bytree=1, gamma=0, learning_rate=0.1, max_depth=7, subsample=0.8, random_state=42)\n",
    "\n",
    "gbm_model_exp.fit(x_train, y_train)\n",
    "\n",
    "y_train_pred_exp = gbm_model_exp.predict(x_train)\n",
    "train_mse = mean_squared_error(y_train, y_train_pred_exp)\n",
    "train_r2 = r2_score(y_train, y_train_pred_exp)\n",
    "train_mae = mean_absolute_error(y_train, y_train_pred_exp)\n",
    "print(\"Train Mean Squared Error:\", train_mse)\n",
    "print(\"Train R-squared (R2):\", train_r2)\n",
    "print(\"Train Mean Absolute Error (MAE):\", train_mae)\n",
    "\n",
    "y_test_pred_exp = gbm_model_exp.predict(x_test)\n",
    "test_mse = mean_squared_error(y_test, y_test_pred_exp)\n",
    "test_r2 = r2_score(y_test, y_test_pred_exp)\n",
    "test_mae = mean_absolute_error(y_test, y_test_pred_exp)\n",
    "print(\"Test Mean Squared Error:\", test_mse)\n",
    "print(\"Test R-squared (R2):\", test_r2)\n",
    "print(\"Test Mean Absolute Error (MAE):\", test_mae)"
   ]
  }
 ],
 "metadata": {
  "kernelspec": {
   "display_name": "feature_extraction",
   "language": "python",
   "name": "python3"
  },
  "language_info": {
   "codemirror_mode": {
    "name": "ipython",
    "version": 3
   },
   "file_extension": ".py",
   "mimetype": "text/x-python",
   "name": "python",
   "nbconvert_exporter": "python",
   "pygments_lexer": "ipython3",
   "version": "3.9.18"
  }
 },
 "nbformat": 4,
 "nbformat_minor": 2
}
