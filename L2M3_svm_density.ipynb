{
 "cells": [
  {
   "cell_type": "code",
   "execution_count": 1,
   "metadata": {},
   "outputs": [],
   "source": [
    "from sklearn.model_selection import train_test_split, GridSearchCV\n",
    "from sklearn.svm import SVR\n",
    "from sklearn.metrics import mean_squared_error, r2_score, mean_absolute_error\n",
    "import numpy as np\n",
    "import json\n",
    "import pandas as pd"
   ]
  },
  {
   "cell_type": "code",
   "execution_count": 2,
   "metadata": {},
   "outputs": [],
   "source": [
    "with open('/storage/taeun8991/descriptor_model/L2M3_revision_ML/x_vector_density.json', 'r') as file:\n",
    "    x_vector = json.load(file)\n",
    "\n",
    "with open('/storage/taeun8991/descriptor_model/L2M3_revision_ML/y_vector_density.json', 'r') as file:\n",
    "    y_vector = json.load(file)\n",
    "\n",
    "with open('/storage/taeun8991/descriptor_model/L2M3_revision_ML/refcode_list_density.json', 'r') as f:\n",
    "    refcode_list = json.load(f)"
   ]
  },
  {
   "cell_type": "code",
   "execution_count": 3,
   "metadata": {},
   "outputs": [],
   "source": [
    "filtered_indices = [\n",
    "    i for i, sublist in enumerate(x_vector) \n",
    "    if not any(\n",
    "        (isinstance(value, (float, int)) and (np.isinf(value) or np.abs(value) > np.finfo(np.float32).max or np.isnan(value) or value == 'nan'))\n",
    "        for value in sublist\n",
    "    )\n",
    "]\n",
    "\n",
    "x_vector_filtered = [x_vector[i] for i in filtered_indices]\n",
    "y_vector_filtered = [y_vector[i] for i in filtered_indices]\n",
    "refcode_list_filtered = [refcode_list[i] for i in filtered_indices]"
   ]
  },
  {
   "cell_type": "code",
   "execution_count": 4,
   "metadata": {},
   "outputs": [],
   "source": [
    "x_train, x_test, y_train, y_test = train_test_split(x_vector_filtered, y_vector_filtered, test_size=0.25, random_state=42)\n"
   ]
  },
  {
   "cell_type": "code",
   "execution_count": 5,
   "metadata": {},
   "outputs": [
    {
     "name": "stdout",
     "output_type": "stream",
     "text": [
      "Fitting 5 folds for each of 128 candidates, totalling 640 fits\n"
     ]
    },
    {
     "ename": "",
     "evalue": "",
     "output_type": "error",
     "traceback": [
      "\u001b[1;31mThe Kernel crashed while executing code in the the current cell or a previous cell. Please review the code in the cell(s) to identify a possible cause of the failure. Click <a href='https://aka.ms/vscodeJupyterKernelCrash'>here</a> for more info. View Jupyter <a href='command:jupyter.viewOutput'>log</a> for further details."
     ]
    }
   ],
   "source": [
    "# Define the parameter grid for SVR\n",
    "param_grid = {\n",
    "    'C': [0.1, 1, 10, 100],\n",
    "    'epsilon': [0.001, 0.01, 0.1, 1],\n",
    "    'gamma': ['scale', 'auto', 0.01, 0.1],\n",
    "    'kernel': ['rbf', 'poly']\n",
    "}\n",
    "\n",
    "svm_model = SVR()\n",
    "\n",
    "grid_search = GridSearchCV(\n",
    "    estimator=svm_model, \n",
    "    param_grid=param_grid, \n",
    "    cv=5,\n",
    "    scoring='r2',\n",
    "    n_jobs=-1,\n",
    "    verbose=1\n",
    ")\n",
    "\n",
    "# Fit the GridSearchCV on the training data\n",
    "grid_search.fit(x_train, y_train)\n",
    "\n",
    "# Retrieve the best model and best hyperparameters\n",
    "best_svr_model = grid_search.best_estimator_\n",
    "print(\"Best Parameters:\", grid_search.best_params_)\n"
   ]
  },
  {
   "cell_type": "code",
   "execution_count": null,
   "metadata": {},
   "outputs": [],
   "source": [
    "x_train = np.array(x_train).astype(float)\n",
    "y_train = np.array(y_train).astype(float)\n",
    "x_test = np.array(x_test).astype(float)\n",
    "y_test = np.array(y_test).astype(float)"
   ]
  },
  {
   "cell_type": "code",
   "execution_count": null,
   "metadata": {},
   "outputs": [],
   "source": [
    "from sklearn.svm import SVR\n",
    "from sklearn.preprocessing import StandardScaler\n",
    "\n",
    "# Step 1: Scale the input features\n",
    "scaler = StandardScaler()\n",
    "X_train_scaled = scaler.fit_transform(X_train)\n",
    "X_test_scaled = scaler.transform(X_test)\n",
    "\n",
    "svm_model_exp = SVR(kernel='rbf', C=10, epsilon=0.01, gamma='auto')\n",
    "\n",
    "# Step 5: Re-train the model using the best parameters on the scaled training set\n",
    "svm_model_exp.fit(X_train_scaled, y_train)\n",
    "\n",
    "# Step 6: Predict and evaluate on the training set\n",
    "y_train_pred_exp = svm_model_exp.predict(X_train_scaled)\n",
    "train_mse = mean_squared_error(y_train, y_train_pred_exp)\n",
    "train_r2 = r2_score(y_train, y_train_pred_exp)\n",
    "train_mae = mean_absolute_error(y_train, y_train_pred_exp)\n",
    "print(\"Train Mean Squared Error:\", train_mse)\n",
    "print(\"Train R-squared (R2):\", train_r2)\n",
    "print(\"Train Mean Absolute Error (MAE):\", train_mae)\n",
    "\n",
    "# Step 7: Predict and evaluate on the test set\n",
    "y_test_pred_exp = svm_model_exp.predict(X_test_scaled)\n",
    "test_mse = mean_squared_error(y_test, y_test_pred_exp)\n",
    "test_r2 = r2_score(y_test, y_test_pred_exp)\n",
    "test_mae = mean_absolute_error(y_test, y_test_pred_exp)\n",
    "print(\"Test Mean Squared Error:\", test_mse)\n",
    "print(\"Test R-squared (R2):\", test_r2)\n",
    "print(\"Test Mean Absolute Error (MAE):\", test_mae)\n"
   ]
  }
 ],
 "metadata": {
  "kernelspec": {
   "display_name": "feature_extraction",
   "language": "python",
   "name": "python3"
  },
  "language_info": {
   "codemirror_mode": {
    "name": "ipython",
    "version": 3
   },
   "file_extension": ".py",
   "mimetype": "text/x-python",
   "name": "python",
   "nbconvert_exporter": "python",
   "pygments_lexer": "ipython3",
   "version": "3.9.18"
  }
 },
 "nbformat": 4,
 "nbformat_minor": 2
}
